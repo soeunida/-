{
 "cells": [
  {
   "cell_type": "code",
   "execution_count": 5,
   "metadata": {},
   "outputs": [
    {
     "ename": "TypeError",
     "evalue": "can only concatenate list (not \"int\") to list",
     "output_type": "error",
     "traceback": [
      "\u001b[1;31m---------------------------------------------------------------------------\u001b[0m",
      "\u001b[1;31mTypeError\u001b[0m                                 Traceback (most recent call last)",
      "\u001b[1;32m~\\AppData\\Local\\Temp/ipykernel_107044/3366231324.py\u001b[0m in \u001b[0;36m<module>\u001b[1;34m\u001b[0m\n\u001b[0;32m     19\u001b[0m     \u001b[1;32mif\u001b[0m \u001b[0mi\u001b[0m \u001b[1;33m%\u001b[0m \u001b[1;36m200\u001b[0m \u001b[1;33m==\u001b[0m \u001b[1;36m0\u001b[0m\u001b[1;33m:\u001b[0m\u001b[1;33m\u001b[0m\u001b[1;33m\u001b[0m\u001b[0m\n\u001b[0;32m     20\u001b[0m         \u001b[0mlin_data\u001b[0m\u001b[1;33m.\u001b[0m\u001b[0mplot\u001b[0m\u001b[1;33m(\u001b[0m\u001b[0mkind\u001b[0m \u001b[1;33m=\u001b[0m \u001b[1;34m'scatter'\u001b[0m\u001b[1;33m,\u001b[0m \u001b[0mx\u001b[0m \u001b[1;33m=\u001b[0m \u001b[1;34m'input'\u001b[0m \u001b[1;33m,\u001b[0m \u001b[0my\u001b[0m \u001b[1;33m=\u001b[0m \u001b[1;34m'pollution'\u001b[0m\u001b[1;33m)\u001b[0m\u001b[1;33m\u001b[0m\u001b[1;33m\u001b[0m\u001b[0m\n\u001b[1;32m---> 21\u001b[1;33m         \u001b[0mplt\u001b[0m\u001b[1;33m.\u001b[0m\u001b[0mplot\u001b[0m\u001b[1;33m(\u001b[0m\u001b[1;33m[\u001b[0m\u001b[1;36m0\u001b[0m\u001b[1;33m,\u001b[0m \u001b[1;36m1\u001b[0m\u001b[1;33m]\u001b[0m\u001b[1;33m,\u001b[0m \u001b[1;33m[\u001b[0m\u001b[0mh\u001b[0m\u001b[1;33m(\u001b[0m\u001b[1;36m0\u001b[0m\u001b[1;33m,\u001b[0m \u001b[0mparam\u001b[0m\u001b[1;33m)\u001b[0m\u001b[1;33m,\u001b[0m \u001b[0mh\u001b[0m\u001b[1;33m(\u001b[0m\u001b[1;36m1\u001b[0m\u001b[1;33m,\u001b[0m \u001b[0mparam\u001b[0m\u001b[1;33m)\u001b[0m\u001b[1;33m]\u001b[0m\u001b[1;33m)\u001b[0m\u001b[1;33m\u001b[0m\u001b[1;33m\u001b[0m\u001b[0m\n\u001b[0m\u001b[0;32m     22\u001b[0m     \u001b[0merror\u001b[0m \u001b[1;33m=\u001b[0m \u001b[1;33m(\u001b[0m \u001b[0mh\u001b[0m\u001b[1;33m(\u001b[0m\u001b[0mx\u001b[0m\u001b[1;33m,\u001b[0m \u001b[0mparam\u001b[0m\u001b[1;33m)\u001b[0m \u001b[1;33m-\u001b[0m \u001b[0my\u001b[0m\u001b[1;33m)\u001b[0m\u001b[1;33m\u001b[0m\u001b[1;33m\u001b[0m\u001b[0m\n\u001b[0;32m     23\u001b[0m     \u001b[0mparam\u001b[0m\u001b[1;33m[\u001b[0m\u001b[1;36m0\u001b[0m\u001b[1;33m]\u001b[0m \u001b[1;33m-=\u001b[0m \u001b[0mlearning_rate\u001b[0m \u001b[1;33m*\u001b[0m \u001b[1;33m(\u001b[0m\u001b[0merror\u001b[0m \u001b[1;33m*\u001b[0m \u001b[0mx\u001b[0m\u001b[1;33m)\u001b[0m\u001b[1;33m.\u001b[0m\u001b[0msum\u001b[0m\u001b[1;33m(\u001b[0m\u001b[1;33m)\u001b[0m\u001b[1;33m\u001b[0m\u001b[1;33m\u001b[0m\u001b[0m\n",
      "\u001b[1;32m~\\AppData\\Local\\Temp/ipykernel_107044/3366231324.py\u001b[0m in \u001b[0;36mh\u001b[1;34m(x, pram)\u001b[0m\n\u001b[0;32m      6\u001b[0m \u001b[1;33m\u001b[0m\u001b[0m\n\u001b[0;32m      7\u001b[0m \u001b[1;32mdef\u001b[0m \u001b[0mh\u001b[0m\u001b[1;33m(\u001b[0m\u001b[0mx\u001b[0m\u001b[1;33m,\u001b[0m \u001b[0mpram\u001b[0m\u001b[1;33m)\u001b[0m\u001b[1;33m:\u001b[0m\u001b[1;33m\u001b[0m\u001b[1;33m\u001b[0m\u001b[0m\n\u001b[1;32m----> 8\u001b[1;33m     \u001b[1;32mreturn\u001b[0m \u001b[0mparam\u001b[0m \u001b[1;33m*\u001b[0m \u001b[0mx\u001b[0m \u001b[1;33m+\u001b[0m \u001b[0mparam\u001b[0m\u001b[1;33m[\u001b[0m\u001b[1;36m1\u001b[0m\u001b[1;33m]\u001b[0m\u001b[1;33m\u001b[0m\u001b[1;33m\u001b[0m\u001b[0m\n\u001b[0m\u001b[0;32m      9\u001b[0m \u001b[1;33m\u001b[0m\u001b[0m\n\u001b[0;32m     10\u001b[0m \u001b[0mlearning_iteration\u001b[0m \u001b[1;33m=\u001b[0m \u001b[1;36m1000\u001b[0m\u001b[1;33m\u001b[0m\u001b[1;33m\u001b[0m\u001b[0m\n",
      "\u001b[1;31mTypeError\u001b[0m: can only concatenate list (not \"int\") to list"
     ]
    },
    {
     "data": {
      "image/png": "[encoded data removed]",
      "text/plain": [
       "<Figure size 432x288 with 1 Axes>"
      ]
     },
     "metadata": {
      "needs_background": "light"
     },
     "output_type": "display_data"
    }
   ],
   "source": [
    "import matplotlib.pyplot as plt\n",
    "import pandas as pd\n",
    "#데이터 저장 위치\n",
    "data_home = 'http://github.com/dknife/ML/raw/main/data/'\n",
    "lin_data = pd.read_csv(data_home+'pollution.csv')\n",
    "\n",
    "def h(x, pram):\n",
    "    return param * x + param[1]\n",
    "\n",
    "learning_iteration = 1000\n",
    "learning_rate = 0.0025\n",
    "\n",
    "param = [1,1]\n",
    "\n",
    "x = lin_data['input'].to_numpy()\n",
    "y = lin_data['pollution'].to_numpy()\n",
    "\n",
    "for i in range(learning_iteration):\n",
    "    if i % 200 == 0:\n",
    "        lin_data.plot(kind = 'scatter', x = 'input' , y = 'pollution')\n",
    "        plt.plot([0, 1], [h(0, param), h(1, param)])\n",
    "    error = ( h(x, param) - y)\n",
    "    param[0] -= learning_rate * (error * x).sum()\n",
    "    param[1] -= learning_rate * error.sum()"
   ]
  },
  {
   "cell_type": "code",
   "execution_count": 9,
   "metadata": {},
   "outputs": [],
   "source": [
    "import matplotlib.pyplot as plt\n",
    "import numpy as np\n",
    "import pandas as pd\n",
    "from sklearn import linear_model #sklearn 모듈가져오는 것\n",
    "\n",
    "data_home = 'http://github.com/dknife/ML/raw/main/data/'\n",
    "lin_data = pd.read_csv(data_home+'pollution.csv')"
   ]
  },
  {
   "cell_type": "code",
   "execution_count": 11,
   "metadata": {},
   "outputs": [
    {
     "name": "stdout",
     "output_type": "stream",
     "text": [
      "[[0.24055707]\n",
      " [0.1597306 ]\n",
      " [0.10829455]\n",
      " [0.23377033]\n",
      " [0.28323537]\n",
      " [0.12808583]\n",
      " [0.34549075]\n",
      " [0.33271329]\n",
      " [0.09001426]\n",
      " [0.11620483]\n",
      " [0.20601359]\n",
      " [0.15000132]\n",
      " [0.39294774]\n",
      " [0.4209191 ]\n",
      " [0.33071579]\n",
      " [0.48175618]\n",
      " [0.26858081]\n",
      " [0.2328081 ]\n",
      " [0.45704999]\n",
      " [0.24569785]\n",
      " [0.38236759]\n",
      " [0.29856761]\n",
      " [0.29944705]\n",
      " [0.44841195]\n",
      " [0.09896587]\n",
      " [0.04793845]\n",
      " [0.15920226]\n",
      " [0.41791947]\n",
      " [0.16082931]\n",
      " [0.24851334]\n",
      " [0.47514699]\n",
      " [0.29708178]\n",
      " [0.1653657 ]\n",
      " [0.10529827]\n",
      " [0.0932346 ]\n",
      " [0.15023707]\n",
      " [0.48271145]\n",
      " [0.28364396]\n",
      " [0.07020281]\n",
      " [0.17768318]\n",
      " [0.46604517]\n",
      " [0.45860857]\n",
      " [0.27905958]\n",
      " [0.16777949]\n",
      " [0.32352937]\n",
      " [0.4329887 ]\n",
      " [0.32825247]\n",
      " [0.03894147]\n",
      " [0.33719318]\n",
      " [0.36048117]\n",
      " [0.08236935]\n",
      " [0.36232547]\n",
      " [0.33608776]\n",
      " [0.13852276]\n",
      " [0.41330502]\n",
      " [0.14950648]\n",
      " [0.24760616]\n",
      " [0.10715455]\n",
      " [0.00153907]\n",
      " [0.45324442]\n",
      " [0.16725705]\n",
      " [0.16088719]\n",
      " [0.00066376]\n",
      " [0.48323703]\n",
      " [0.0902836 ]\n",
      " [0.3775714 ]\n",
      " [0.3501837 ]\n",
      " [0.33927998]\n",
      " [0.45179427]\n",
      " [0.17890406]\n",
      " [0.16829187]\n",
      " [0.2487739 ]\n",
      " [0.40034535]\n",
      " [0.31216845]\n",
      " [0.42651627]\n",
      " [0.43160233]\n",
      " [0.48490261]\n",
      " [0.29511263]\n",
      " [0.4502763 ]\n",
      " [0.19059438]\n",
      " [0.12871288]\n",
      " [0.0980604 ]\n",
      " [0.17965996]\n",
      " [0.08076611]\n",
      " [0.0650491 ]\n",
      " [0.30182644]\n",
      " [0.14230448]\n",
      " [0.04488891]\n",
      " [0.08815466]\n",
      " [0.34048804]\n",
      " [0.34300413]\n",
      " [0.38705513]\n",
      " [0.38881492]\n",
      " [0.41378876]\n",
      " [0.27869667]\n",
      " [0.07082404]\n",
      " [0.05529972]\n",
      " [0.13822881]\n",
      " [0.00720486]\n",
      " [0.29029368]]\n"
     ]
    }
   ],
   "source": [
    "x = lin_data['input'].to_numpy()\n",
    "y = lin_data['pollution'].to_numpy()\n",
    "x = x[:, np.newaxis]  #선형 회귀 모델의 입력형식에 맞게 차원을 증가 시킴\n",
    "print(x)"
   ]
  },
  {
   "cell_type": "code",
   "execution_count": 12,
   "metadata": {},
   "outputs": [
    {
     "data": {
      "text/plain": [
       "LinearRegression()"
      ]
     },
     "execution_count": 12,
     "metadata": {},
     "output_type": "execute_result"
    }
   ],
   "source": [
    "regr = linear_model.LinearRegression() \n",
    "regr.fit(x, y) #선형 회귀 모델에 데이터를 넎어 학습을 진행함\n"
   ]
  },
  {
   "cell_type": "code",
   "execution_count": 18,
   "metadata": {},
   "outputs": [
    {
     "data": {
      "text/plain": [
       "[<matplotlib.lines.Line2D at 0x286b8e4e200>]"
      ]
     },
     "execution_count": 18,
     "metadata": {},
     "output_type": "execute_result"
    },
    {
     "data": {
      "image/png": "[encoded data removed]",
      "text/plain": [
       "<Figure size 432x288 with 1 Axes>"
      ]
     },
     "metadata": {
      "needs_background": "light"
     },
     "output_type": "display_data"
    }
   ],
   "source": [
    "lin_data.plot(kind = 'scatter', x = 'input', y = 'pollution')\n",
    "y_pred = regr.predict([[0], [1]])\n",
    "plt.plot([0, 1], y_pred)    # x구간을 0과 1사이로 두자"
   ]
  },
  {
   "cell_type": "code",
   "execution_count": 22,
   "metadata": {},
   "outputs": [
    {
     "name": "stdout",
     "output_type": "stream",
     "text": [
      "[[1.00000000e+00 2.40557071e-01]\n",
      " [1.00000000e+00 1.59730598e-01]\n",
      " [1.00000000e+00 1.08294551e-01]\n",
      " [1.00000000e+00 2.33770334e-01]\n",
      " [1.00000000e+00 2.83235375e-01]\n",
      " [1.00000000e+00 1.28085826e-01]\n",
      " [1.00000000e+00 3.45490753e-01]\n",
      " [1.00000000e+00 3.32713292e-01]\n",
      " [1.00000000e+00 9.00142565e-02]\n",
      " [1.00000000e+00 1.16204832e-01]\n",
      " [1.00000000e+00 2.06013589e-01]\n",
      " [1.00000000e+00 1.50001317e-01]\n",
      " [1.00000000e+00 3.92947744e-01]\n",
      " [1.00000000e+00 4.20919103e-01]\n",
      " [1.00000000e+00 3.30715790e-01]\n",
      " [1.00000000e+00 4.81756183e-01]\n",
      " [1.00000000e+00 2.68580809e-01]\n",
      " [1.00000000e+00 2.32808098e-01]\n",
      " [1.00000000e+00 4.57049987e-01]\n",
      " [1.00000000e+00 2.45697851e-01]\n",
      " [1.00000000e+00 3.82367589e-01]\n",
      " [1.00000000e+00 2.98567613e-01]\n",
      " [1.00000000e+00 2.99447048e-01]\n",
      " [1.00000000e+00 4.48411946e-01]\n",
      " [1.00000000e+00 9.89658723e-02]\n",
      " [1.00000000e+00 4.79384512e-02]\n",
      " [1.00000000e+00 1.59202264e-01]\n",
      " [1.00000000e+00 4.17919473e-01]\n",
      " [1.00000000e+00 1.60829312e-01]\n",
      " [1.00000000e+00 2.48513337e-01]\n",
      " [1.00000000e+00 4.75146988e-01]\n",
      " [1.00000000e+00 2.97081778e-01]\n",
      " [1.00000000e+00 1.65365697e-01]\n",
      " [1.00000000e+00 1.05298268e-01]\n",
      " [1.00000000e+00 9.32346029e-02]\n",
      " [1.00000000e+00 1.50237069e-01]\n",
      " [1.00000000e+00 4.82711446e-01]\n",
      " [1.00000000e+00 2.83643962e-01]\n",
      " [1.00000000e+00 7.02028143e-02]\n",
      " [1.00000000e+00 1.77683177e-01]\n",
      " [1.00000000e+00 4.66045173e-01]\n",
      " [1.00000000e+00 4.58608568e-01]\n",
      " [1.00000000e+00 2.79059580e-01]\n",
      " [1.00000000e+00 1.67779485e-01]\n",
      " [1.00000000e+00 3.23529368e-01]\n",
      " [1.00000000e+00 4.32988700e-01]\n",
      " [1.00000000e+00 3.28252475e-01]\n",
      " [1.00000000e+00 3.89414692e-02]\n",
      " [1.00000000e+00 3.37193184e-01]\n",
      " [1.00000000e+00 3.60481172e-01]\n",
      " [1.00000000e+00 8.23693501e-02]\n",
      " [1.00000000e+00 3.62325471e-01]\n",
      " [1.00000000e+00 3.36087762e-01]\n",
      " [1.00000000e+00 1.38522764e-01]\n",
      " [1.00000000e+00 4.13305022e-01]\n",
      " [1.00000000e+00 1.49506482e-01]\n",
      " [1.00000000e+00 2.47606158e-01]\n",
      " [1.00000000e+00 1.07154553e-01]\n",
      " [1.00000000e+00 1.53907055e-03]\n",
      " [1.00000000e+00 4.53244421e-01]\n",
      " [1.00000000e+00 1.67257053e-01]\n",
      " [1.00000000e+00 1.60887187e-01]\n",
      " [1.00000000e+00 6.63762195e-04]\n",
      " [1.00000000e+00 4.83237033e-01]\n",
      " [1.00000000e+00 9.02836021e-02]\n",
      " [1.00000000e+00 3.77571402e-01]\n",
      " [1.00000000e+00 3.50183695e-01]\n",
      " [1.00000000e+00 3.39279984e-01]\n",
      " [1.00000000e+00 4.51794269e-01]\n",
      " [1.00000000e+00 1.78904062e-01]\n",
      " [1.00000000e+00 1.68291868e-01]\n",
      " [1.00000000e+00 2.48773899e-01]\n",
      " [1.00000000e+00 4.00345354e-01]\n",
      " [1.00000000e+00 3.12168449e-01]\n",
      " [1.00000000e+00 4.26516271e-01]\n",
      " [1.00000000e+00 4.31602331e-01]\n",
      " [1.00000000e+00 4.84902608e-01]\n",
      " [1.00000000e+00 2.95112626e-01]\n",
      " [1.00000000e+00 4.50276298e-01]\n",
      " [1.00000000e+00 1.90594379e-01]\n",
      " [1.00000000e+00 1.28712878e-01]\n",
      " [1.00000000e+00 9.80604026e-02]\n",
      " [1.00000000e+00 1.79659960e-01]\n",
      " [1.00000000e+00 8.07661096e-02]\n",
      " [1.00000000e+00 6.50490965e-02]\n",
      " [1.00000000e+00 3.01826443e-01]\n",
      " [1.00000000e+00 1.42304483e-01]\n",
      " [1.00000000e+00 4.48889083e-02]\n",
      " [1.00000000e+00 8.81546646e-02]\n",
      " [1.00000000e+00 3.40488037e-01]\n",
      " [1.00000000e+00 3.43004129e-01]\n",
      " [1.00000000e+00 3.87055132e-01]\n",
      " [1.00000000e+00 3.88814921e-01]\n",
      " [1.00000000e+00 4.13788763e-01]\n",
      " [1.00000000e+00 2.78696675e-01]\n",
      " [1.00000000e+00 7.08240367e-02]\n",
      " [1.00000000e+00 5.52997175e-02]\n",
      " [1.00000000e+00 1.38228812e-01]\n",
      " [1.00000000e+00 7.20485998e-03]\n",
      " [1.00000000e+00 2.90293677e-01]]\n"
     ]
    }
   ],
   "source": [
    "# 정규 방정식\n",
    "data_home = 'http://github.com/dknife/ML/raw/main/data/'\n",
    "lin_data = pd.read_csv(data_home+'pollution.csv')\n",
    "x = lin_data['input'].to_numpy()\n",
    "y = lin_data['pollution'].to_numpy()\n",
    "x = x[:, np.newaxis]\n",
    "x = np.c_[np.ones((100, 1)), x]\n",
    "print(x)"
   ]
  },
  {
   "cell_type": "code",
   "execution_count": 26,
   "metadata": {},
   "outputs": [
    {
     "data": {
      "text/plain": [
       "array([ 5.17550358, -4.54449866])"
      ]
     },
     "execution_count": 26,
     "metadata": {},
     "output_type": "execute_result"
    }
   ],
   "source": [
    "theta = np.linalg.inv(x.T.dot(x)).dot(x.T).dot(y)\n",
    "theta"
   ]
  },
  {
   "cell_type": "code",
   "execution_count": 27,
   "metadata": {},
   "outputs": [
    {
     "data": {
      "text/plain": [
       "[<matplotlib.lines.Line2D at 0x286b8efe590>]"
      ]
     },
     "execution_count": 27,
     "metadata": {},
     "output_type": "execute_result"
    },
    {
     "data": {
      "image/png": "[encoded data removed]",
      "text/plain": [
       "<Figure size 432x288 with 1 Axes>"
      ]
     },
     "metadata": {
      "needs_background": "light"
     },
     "output_type": "display_data"
    }
   ],
   "source": [
    "#아주 잘 찾은 것\n",
    "def h(x, theta):    #가설 함수\n",
    "    return x*theta[1] + theta[0]\n",
    "\n",
    "# 데이터와 가설을 비교\n",
    "lin_data.plot(kind = 'scatter', x = 'input', y = 'pollution') #데이터\n",
    "plt.plot([0, 1], [h(0, theta), h(1, theta)])"
   ]
  },
  {
   "cell_type": "code",
   "execution_count": 30,
   "metadata": {},
   "outputs": [
    {
     "data": {
      "text/html": [
       "<div>\n",
       "<style scoped>\n",
       "    .dataframe tbody tr th:only-of-type {\n",
       "        vertical-align: middle;\n",
       "    }\n",
       "\n",
       "    .dataframe tbody tr th {\n",
       "        vertical-align: top;\n",
       "    }\n",
       "\n",
       "    .dataframe thead th {\n",
       "        text-align: right;\n",
       "    }\n",
       "</style>\n",
       "<table border=\"1\" class=\"dataframe\">\n",
       "  <thead>\n",
       "    <tr style=\"text-align: right;\">\n",
       "      <th></th>\n",
       "      <th>Country</th>\n",
       "      <th>Year</th>\n",
       "      <th>Status</th>\n",
       "      <th>Life expectancy</th>\n",
       "      <th>Adult mortality</th>\n",
       "      <th>Infant deaths</th>\n",
       "      <th>Alcohol</th>\n",
       "      <th>Percentage expenditure</th>\n",
       "      <th>Hepatitis B</th>\n",
       "      <th>Measles</th>\n",
       "      <th>...</th>\n",
       "      <th>Polio</th>\n",
       "      <th>Total expenditure</th>\n",
       "      <th>Diphtheria</th>\n",
       "      <th>HIV/AIDS</th>\n",
       "      <th>GDP</th>\n",
       "      <th>Population</th>\n",
       "      <th>Thinness 1-19 years</th>\n",
       "      <th>Thinness 5-9 years</th>\n",
       "      <th>Income composition of resources</th>\n",
       "      <th>Schooling</th>\n",
       "    </tr>\n",
       "  </thead>\n",
       "  <tbody>\n",
       "    <tr>\n",
       "      <th>0</th>\n",
       "      <td>Afghanistan</td>\n",
       "      <td>2015</td>\n",
       "      <td>Developing</td>\n",
       "      <td>65.0</td>\n",
       "      <td>263.0</td>\n",
       "      <td>62</td>\n",
       "      <td>0.01</td>\n",
       "      <td>71.279624</td>\n",
       "      <td>65.0</td>\n",
       "      <td>1154</td>\n",
       "      <td>...</td>\n",
       "      <td>6.0</td>\n",
       "      <td>8.16</td>\n",
       "      <td>65.0</td>\n",
       "      <td>0.1</td>\n",
       "      <td>584.259210</td>\n",
       "      <td>33736494.0</td>\n",
       "      <td>17.2</td>\n",
       "      <td>17.3</td>\n",
       "      <td>0.479</td>\n",
       "      <td>10.1</td>\n",
       "    </tr>\n",
       "    <tr>\n",
       "      <th>1</th>\n",
       "      <td>Afghanistan</td>\n",
       "      <td>2014</td>\n",
       "      <td>Developing</td>\n",
       "      <td>59.9</td>\n",
       "      <td>271.0</td>\n",
       "      <td>64</td>\n",
       "      <td>0.01</td>\n",
       "      <td>73.523582</td>\n",
       "      <td>62.0</td>\n",
       "      <td>492</td>\n",
       "      <td>...</td>\n",
       "      <td>58.0</td>\n",
       "      <td>8.18</td>\n",
       "      <td>62.0</td>\n",
       "      <td>0.1</td>\n",
       "      <td>612.696514</td>\n",
       "      <td>327582.0</td>\n",
       "      <td>17.5</td>\n",
       "      <td>17.5</td>\n",
       "      <td>0.476</td>\n",
       "      <td>10.0</td>\n",
       "    </tr>\n",
       "    <tr>\n",
       "      <th>2</th>\n",
       "      <td>Afghanistan</td>\n",
       "      <td>2013</td>\n",
       "      <td>Developing</td>\n",
       "      <td>59.9</td>\n",
       "      <td>268.0</td>\n",
       "      <td>66</td>\n",
       "      <td>0.01</td>\n",
       "      <td>73.219243</td>\n",
       "      <td>64.0</td>\n",
       "      <td>430</td>\n",
       "      <td>...</td>\n",
       "      <td>62.0</td>\n",
       "      <td>8.13</td>\n",
       "      <td>64.0</td>\n",
       "      <td>0.1</td>\n",
       "      <td>631.744976</td>\n",
       "      <td>31731688.0</td>\n",
       "      <td>17.7</td>\n",
       "      <td>17.7</td>\n",
       "      <td>0.470</td>\n",
       "      <td>9.9</td>\n",
       "    </tr>\n",
       "    <tr>\n",
       "      <th>3</th>\n",
       "      <td>Afghanistan</td>\n",
       "      <td>2012</td>\n",
       "      <td>Developing</td>\n",
       "      <td>59.5</td>\n",
       "      <td>272.0</td>\n",
       "      <td>69</td>\n",
       "      <td>0.01</td>\n",
       "      <td>78.184215</td>\n",
       "      <td>67.0</td>\n",
       "      <td>2787</td>\n",
       "      <td>...</td>\n",
       "      <td>67.0</td>\n",
       "      <td>8.52</td>\n",
       "      <td>67.0</td>\n",
       "      <td>0.1</td>\n",
       "      <td>669.959000</td>\n",
       "      <td>3696958.0</td>\n",
       "      <td>17.9</td>\n",
       "      <td>18.0</td>\n",
       "      <td>0.463</td>\n",
       "      <td>9.8</td>\n",
       "    </tr>\n",
       "    <tr>\n",
       "      <th>4</th>\n",
       "      <td>Afghanistan</td>\n",
       "      <td>2011</td>\n",
       "      <td>Developing</td>\n",
       "      <td>59.2</td>\n",
       "      <td>275.0</td>\n",
       "      <td>71</td>\n",
       "      <td>0.01</td>\n",
       "      <td>7.097109</td>\n",
       "      <td>68.0</td>\n",
       "      <td>3013</td>\n",
       "      <td>...</td>\n",
       "      <td>68.0</td>\n",
       "      <td>7.87</td>\n",
       "      <td>68.0</td>\n",
       "      <td>0.1</td>\n",
       "      <td>63.537231</td>\n",
       "      <td>2978599.0</td>\n",
       "      <td>18.2</td>\n",
       "      <td>18.2</td>\n",
       "      <td>0.454</td>\n",
       "      <td>9.5</td>\n",
       "    </tr>\n",
       "  </tbody>\n",
       "</table>\n",
       "<p>5 rows × 22 columns</p>\n",
       "</div>"
      ],
      "text/plain": [
       "       Country  Year      Status  Life expectancy  Adult mortality  \\\n",
       "0  Afghanistan  2015  Developing             65.0            263.0   \n",
       "1  Afghanistan  2014  Developing             59.9            271.0   \n",
       "2  Afghanistan  2013  Developing             59.9            268.0   \n",
       "3  Afghanistan  2012  Developing             59.5            272.0   \n",
       "4  Afghanistan  2011  Developing             59.2            275.0   \n",
       "\n",
       "   Infant deaths  Alcohol  Percentage expenditure  Hepatitis B  Measles  ...  \\\n",
       "0             62     0.01               71.279624         65.0     1154  ...   \n",
       "1             64     0.01               73.523582         62.0      492  ...   \n",
       "2             66     0.01               73.219243         64.0      430  ...   \n",
       "3             69     0.01               78.184215         67.0     2787  ...   \n",
       "4             71     0.01                7.097109         68.0     3013  ...   \n",
       "\n",
       "   Polio  Total expenditure  Diphtheria   HIV/AIDS         GDP  Population  \\\n",
       "0    6.0               8.16         65.0       0.1  584.259210  33736494.0   \n",
       "1   58.0               8.18         62.0       0.1  612.696514    327582.0   \n",
       "2   62.0               8.13         64.0       0.1  631.744976  31731688.0   \n",
       "3   67.0               8.52         67.0       0.1  669.959000   3696958.0   \n",
       "4   68.0               7.87         68.0       0.1   63.537231   2978599.0   \n",
       "\n",
       "   Thinness 1-19 years  Thinness 5-9 years  Income composition of resources  \\\n",
       "0                 17.2                17.3                            0.479   \n",
       "1                 17.5                17.5                            0.476   \n",
       "2                 17.7                17.7                            0.470   \n",
       "3                 17.9                18.0                            0.463   \n",
       "4                 18.2                18.2                            0.454   \n",
       "\n",
       "   Schooling  \n",
       "0       10.1  \n",
       "1       10.0  \n",
       "2        9.9  \n",
       "3        9.8  \n",
       "4        9.5  \n",
       "\n",
       "[5 rows x 22 columns]"
      ]
     },
     "execution_count": 30,
     "metadata": {},
     "output_type": "execute_result"
    }
   ],
   "source": [
    "import pandas as pd \n",
    "import matplotlib.pyplot as plt \n",
    "import seaborn as sns #시각화를 위하여 seaborn 라이브러리를 사용한다.\n",
    "\n",
    "data_loc = 'http://github.com/dknife/ML/raw/main/data/'\n",
    "life = pd.read_csv(data_loc + 'life_expectancy.csv')\n",
    "life.head()"
   ]
  },
  {
   "cell_type": "code",
   "execution_count": 31,
   "metadata": {},
   "outputs": [
    {
     "name": "stdout",
     "output_type": "stream",
     "text": [
      "(2938, 22)\n",
      "Country                              0\n",
      "Year                                 0\n",
      "Status                               0\n",
      "Life expectancy                     10\n",
      "Adult mortality                     10\n",
      "Infant deaths                        0\n",
      "Alcohol                            194\n",
      "Percentage expenditure               0\n",
      "Hepatitis B                        553\n",
      "Measles                              0\n",
      "BMI                                 34\n",
      "Under-five deaths                    0\n",
      "Polio                               19\n",
      "Total expenditure                  226\n",
      "Diphtheria                          19\n",
      "HIV/AIDS                             0\n",
      "GDP                                448\n",
      "Population                         652\n",
      "Thinness 1-19 years                 34\n",
      "Thinness 5-9 years                  34\n",
      "Income composition of resources    167\n",
      "Schooling                          163\n",
      "dtype: int64\n"
     ]
    }
   ],
   "source": [
    "print(life.shape)\n",
    "print(life.isnull().sum())"
   ]
  },
  {
   "cell_type": "code",
   "execution_count": null,
   "metadata": {},
   "outputs": [],
   "source": []
  }
 ],
 "metadata": {
  "interpreter": {
   "hash": "ecf0b7173a552e5ea4b9987922e4b9b14015e97b2cffe3179efb123b4ab487bc"
  },
  "kernelspec": {
   "display_name": "Python 3.10.0 64-bit",
   "language": "python",
   "name": "python3"
  },
  "language_info": {
   "codemirror_mode": {
    "name": "ipython",
    "version": 3
   },
   "file_extension": ".py",
   "mimetype": "text/x-python",
   "name": "python",
   "nbconvert_exporter": "python",
   "pygments_lexer": "ipython3",
   "version": "3.10.0"
  },
  "orig_nbformat": 4
 },
 "nbformat": 4,
 "nbformat_minor": 2
}
